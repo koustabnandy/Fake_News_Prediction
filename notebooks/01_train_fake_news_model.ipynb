{
 "cells": [
  {
   "cell_type": "markdown",
   "id": "e342ad5f",
   "metadata": {},
   "source": [
    "# Fake News Detection – Training Notebook\n",
    "This notebook trains a simple **TF-IDF + Logistic Regression** model and saves it as a scikit-learn **Pipeline** to `models/fake_news_pipeline.pkl`."
   ]
  },
  {
   "cell_type": "code",
   "execution_count": 1,
   "id": "61d6bc36",
   "metadata": {},
   "outputs": [
    {
     "ename": "ModuleNotFoundError",
     "evalue": "No module named 'joblib'",
     "output_type": "error",
     "traceback": [
      "\u001b[1;31m---------------------------------------------------------------------------\u001b[0m",
      "\u001b[1;31mModuleNotFoundError\u001b[0m                       Traceback (most recent call last)",
      "Cell \u001b[1;32mIn[1], line 4\u001b[0m\n\u001b[0;32m      1\u001b[0m \u001b[38;5;66;03m# Install (if needed) and imports\u001b[39;00m\n\u001b[0;32m      2\u001b[0m \u001b[38;5;66;03m# %pip install -r ../requirements.txt\u001b[39;00m\n\u001b[1;32m----> 4\u001b[0m \u001b[38;5;28;01mimport\u001b[39;00m \u001b[38;5;21;01mos\u001b[39;00m\u001b[38;5;241m,\u001b[39m \u001b[38;5;21;01mjoblib\u001b[39;00m\n\u001b[0;32m      5\u001b[0m \u001b[38;5;28;01mimport\u001b[39;00m \u001b[38;5;21;01mpandas\u001b[39;00m \u001b[38;5;28;01mas\u001b[39;00m \u001b[38;5;21;01mpd\u001b[39;00m\n\u001b[0;32m      6\u001b[0m \u001b[38;5;28;01mfrom\u001b[39;00m \u001b[38;5;21;01msklearn\u001b[39;00m\u001b[38;5;21;01m.\u001b[39;00m\u001b[38;5;21;01mmodel_selection\u001b[39;00m \u001b[38;5;28;01mimport\u001b[39;00m train_test_split\n",
      "\u001b[1;31mModuleNotFoundError\u001b[0m: No module named 'joblib'"
     ]
    }
   ],
   "source": [
    "# Install (if needed) and imports\n",
    "# %pip install -r ../requirements.txt\n",
    "\n",
    "import os, joblib\n",
    "import pandas as pd\n",
    "from sklearn.model_selection import train_test_split\n",
    "from sklearn.pipeline import Pipeline\n",
    "from sklearn.linear_model import LogisticRegression\n",
    "from sklearn.feature_extraction.text import TfidfVectorizer\n",
    "from sklearn.metrics import classification_report, accuracy_score\n",
    "\n",
    "import sys\n",
    "sys.path.append(\"..\")\n",
    "from utils.data_utils import load_dataset\n",
    "\n",
    "DATA_DIR = os.path.join(\"..\", \"data\")\n",
    "MODEL_DIR = os.path.join(\"..\", \"models\")\n",
    "MODEL_PATH = os.path.join(MODEL_DIR, \"fake_news_pipeline.pkl\")\n",
    "os.makedirs(MODEL_DIR, exist_ok=True)\n"
   ]
  },
  {
   "cell_type": "code",
   "execution_count": null,
   "id": "84d7f6ba",
   "metadata": {},
   "outputs": [],
   "source": [
    "# Load dataset\n",
    "df = load_dataset(DATA_DIR)\n",
    "df.head(), df['label'].value_counts()\n"
   ]
  },
  {
   "cell_type": "code",
   "execution_count": null,
   "id": "dba51aca",
   "metadata": {},
   "outputs": [],
   "source": [
    "# Train / test split\n",
    "X_train, X_test, y_train, y_test = train_test_split(\n",
    "    df['text'], df['label'], test_size=0.2, random_state=42, stratify=df['label']\n",
    ")\n",
    "len(X_train), len(X_test)\n"
   ]
  },
  {
   "cell_type": "code",
   "execution_count": null,
   "id": "2c0bbae4",
   "metadata": {},
   "outputs": [],
   "source": [
    "# Build pipeline\n",
    "pipeline = Pipeline([\n",
    "    (\"tfidf\", TfidfVectorizer(\n",
    "        lowercase=True,\n",
    "        stop_words=\"english\",\n",
    "        ngram_range=(1,2),\n",
    "        max_df=0.9,\n",
    "        min_df=2\n",
    "    )),\n",
    "    (\"clf\", LogisticRegression(max_iter=200))\n",
    "])\n",
    "\n",
    "# Train\n",
    "pipeline.fit(X_train, y_train)\n",
    "\n",
    "# Evaluate\n",
    "y_pred = pipeline.predict(X_test)\n",
    "acc = accuracy_score(y_test, y_pred)\n",
    "print(f\"Accuracy: {acc:.4f}\")\n",
    "print(classification_report(y_test, y_pred))\n"
   ]
  },
  {
   "cell_type": "code",
   "execution_count": null,
   "id": "971d2e9f",
   "metadata": {},
   "outputs": [],
   "source": [
    "# Save pipeline\n",
    "joblib.dump(pipeline, MODEL_PATH)\n",
    "MODEL_PATH\n"
   ]
  }
 ],
 "metadata": {
  "kernelspec": {
   "display_name": "Python 3",
   "language": "python",
   "name": "python3"
  },
  "language_info": {
   "codemirror_mode": {
    "name": "ipython",
    "version": 3
   },
   "file_extension": ".py",
   "mimetype": "text/x-python",
   "name": "python",
   "nbconvert_exporter": "python",
   "pygments_lexer": "ipython3",
   "version": "3.12.10"
  }
 },
 "nbformat": 4,
 "nbformat_minor": 5
}
